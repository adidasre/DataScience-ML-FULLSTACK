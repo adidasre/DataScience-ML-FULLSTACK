{
 "cells": [
  {
   "cell_type": "code",
   "execution_count": 2,
   "id": "5e0ac8a0",
   "metadata": {},
   "outputs": [
    {
     "name": "stdout",
     "output_type": "stream",
     "text": [
      "3\n"
     ]
    }
   ],
   "source": [
    "#list functions\n",
    "l=[10,30,40]\n",
    "print(len(l))"
   ]
  },
  {
   "cell_type": "code",
   "execution_count": 3,
   "id": "6bbc67dd",
   "metadata": {},
   "outputs": [
    {
     "name": "stdout",
     "output_type": "stream",
     "text": [
      "80\n"
     ]
    }
   ],
   "source": [
    "print(sum(l))"
   ]
  },
  {
   "cell_type": "code",
   "execution_count": 5,
   "id": "99880f45",
   "metadata": {},
   "outputs": [
    {
     "name": "stdout",
     "output_type": "stream",
     "text": [
      "40\n"
     ]
    }
   ],
   "source": [
    "l=[10,20,30,40]\n",
    "print(max(l))"
   ]
  },
  {
   "cell_type": "code",
   "execution_count": 6,
   "id": "a8734808",
   "metadata": {},
   "outputs": [
    {
     "name": "stdout",
     "output_type": "stream",
     "text": [
      "10\n"
     ]
    }
   ],
   "source": [
    "print(min(l))"
   ]
  },
  {
   "cell_type": "code",
   "execution_count": 7,
   "id": "81af43da",
   "metadata": {},
   "outputs": [
    {
     "ename": "SyntaxError",
     "evalue": "invalid syntax (Temp/ipykernel_17188/1575385999.py, line 2)",
     "output_type": "error",
     "traceback": [
      "\u001b[1;36m  File \u001b[1;32m\"C:\\Users\\dasre\\AppData\\Local\\Temp/ipykernel_17188/1575385999.py\"\u001b[1;36m, line \u001b[1;32m2\u001b[0m\n\u001b[1;33m    class list{\u001b[0m\n\u001b[1;37m              ^\u001b[0m\n\u001b[1;31mSyntaxError\u001b[0m\u001b[1;31m:\u001b[0m invalid syntax\n"
     ]
    }
   ],
   "source": [
    "#list methods:\n",
    "#class list{\n",
    "#    append()\n",
    "#}"
   ]
  },
  {
   "cell_type": "code",
   "execution_count": 9,
   "id": "fcea61b4",
   "metadata": {},
   "outputs": [
    {
     "name": "stdout",
     "output_type": "stream",
     "text": [
      "[2, 3, 4, 5, 10]\n"
     ]
    }
   ],
   "source": [
    "#append() #add\n",
    "n=[2,3,4,5]\n",
    "n.append(10)\n",
    "print(n)"
   ]
  },
  {
   "cell_type": "code",
   "execution_count": 10,
   "id": "8720d4da",
   "metadata": {},
   "outputs": [
    {
     "name": "stdout",
     "output_type": "stream",
     "text": [
      "enter a nameaditi\n"
     ]
    }
   ],
   "source": [
    "i=input(\"enter a name\")\n",
    "n.append(i)"
   ]
  },
  {
   "cell_type": "code",
   "execution_count": 11,
   "id": "883e538d",
   "metadata": {},
   "outputs": [
    {
     "name": "stdout",
     "output_type": "stream",
     "text": [
      "[2, 3, 4, 5, 10, 'aditi']\n"
     ]
    }
   ],
   "source": [
    "print(n)"
   ]
  },
  {
   "cell_type": "code",
   "execution_count": 13,
   "id": "22d6751d",
   "metadata": {},
   "outputs": [
    {
     "name": "stdout",
     "output_type": "stream",
     "text": [
      "[2, 4, 10, 5, 3, 6]\n"
     ]
    }
   ],
   "source": [
    "#insert:\n",
    "n=[2,4,5,3,6]\n",
    "n.insert(2, 10)\n",
    "print(n)"
   ]
  },
  {
   "cell_type": "code",
   "execution_count": 14,
   "id": "8ed99bc0",
   "metadata": {},
   "outputs": [
    {
     "name": "stdout",
     "output_type": "stream",
     "text": [
      "[2, 4, 5, 3, 10, 6]\n"
     ]
    }
   ],
   "source": [
    "n=[2,4,5,3,6]\n",
    "n.insert(-1, 10)\n",
    "print(n)"
   ]
  },
  {
   "cell_type": "code",
   "execution_count": 15,
   "id": "469e9a51",
   "metadata": {},
   "outputs": [
    {
     "name": "stdout",
     "output_type": "stream",
     "text": [
      "4\n"
     ]
    }
   ],
   "source": [
    "#index()\n",
    "n=[2,4,5,3,6]\n",
    "print(n.index(6))"
   ]
  },
  {
   "cell_type": "code",
   "execution_count": 16,
   "id": "e1a96574",
   "metadata": {},
   "outputs": [
    {
     "ename": "ValueError",
     "evalue": "10 is not in list",
     "output_type": "error",
     "traceback": [
      "\u001b[1;31m---------------------------------------------------------------------------\u001b[0m",
      "\u001b[1;31mValueError\u001b[0m                                Traceback (most recent call last)",
      "\u001b[1;32m~\\AppData\\Local\\Temp/ipykernel_17188/2015174800.py\u001b[0m in \u001b[0;36m<module>\u001b[1;34m\u001b[0m\n\u001b[0;32m      1\u001b[0m \u001b[0mn\u001b[0m\u001b[1;33m=\u001b[0m\u001b[1;33m[\u001b[0m\u001b[1;36m2\u001b[0m\u001b[1;33m,\u001b[0m\u001b[1;36m4\u001b[0m\u001b[1;33m,\u001b[0m\u001b[1;36m5\u001b[0m\u001b[1;33m,\u001b[0m\u001b[1;36m3\u001b[0m\u001b[1;33m,\u001b[0m\u001b[1;36m6\u001b[0m\u001b[1;33m]\u001b[0m\u001b[1;33m\u001b[0m\u001b[1;33m\u001b[0m\u001b[0m\n\u001b[1;32m----> 2\u001b[1;33m \u001b[0mprint\u001b[0m\u001b[1;33m(\u001b[0m\u001b[0mn\u001b[0m\u001b[1;33m.\u001b[0m\u001b[0mindex\u001b[0m\u001b[1;33m(\u001b[0m\u001b[1;36m10\u001b[0m\u001b[1;33m)\u001b[0m\u001b[1;33m)\u001b[0m\u001b[1;33m\u001b[0m\u001b[1;33m\u001b[0m\u001b[0m\n\u001b[0m",
      "\u001b[1;31mValueError\u001b[0m: 10 is not in list"
     ]
    }
   ],
   "source": [
    "n=[2,4,5,3,6]\n",
    "print(n.index(10))"
   ]
  },
  {
   "cell_type": "code",
   "execution_count": 17,
   "id": "92248d2e",
   "metadata": {},
   "outputs": [
    {
     "name": "stdout",
     "output_type": "stream",
     "text": [
      "[6, 3, 5, 4, 2]\n"
     ]
    }
   ],
   "source": [
    "#reverse()\n",
    "n=[2,4,5,3,6]\n",
    "n.reverse()\n",
    "print(n)"
   ]
  },
  {
   "cell_type": "code",
   "execution_count": 18,
   "id": "87f7649b",
   "metadata": {},
   "outputs": [
    {
     "name": "stdout",
     "output_type": "stream",
     "text": [
      "[6, 3, 5, 4, 2]\n"
     ]
    }
   ],
   "source": [
    "print(n)"
   ]
  },
  {
   "cell_type": "code",
   "execution_count": 20,
   "id": "de650ddf",
   "metadata": {},
   "outputs": [
    {
     "name": "stdout",
     "output_type": "stream",
     "text": [
      "2\n"
     ]
    }
   ],
   "source": [
    "n=[\"b\",\"a\",\"r\",\"g\",\"r\"]\n",
    "print(n.count(\"r\"))"
   ]
  },
  {
   "cell_type": "code",
   "execution_count": 21,
   "id": "568aae6e",
   "metadata": {},
   "outputs": [
    {
     "name": "stdout",
     "output_type": "stream",
     "text": [
      "1\n"
     ]
    }
   ],
   "source": [
    "print(n.count('g'))"
   ]
  },
  {
   "cell_type": "code",
   "execution_count": 22,
   "id": "42464a82",
   "metadata": {},
   "outputs": [
    {
     "name": "stdout",
     "output_type": "stream",
     "text": [
      "[6, 5, 4, 3, 2]\n"
     ]
    }
   ],
   "source": [
    "#sort\n",
    "n=[2,4,5,3,6]\n",
    "n.sort(reverse=True)\n",
    "print(n)"
   ]
  },
  {
   "cell_type": "code",
   "execution_count": 24,
   "id": "179c3315",
   "metadata": {},
   "outputs": [
    {
     "name": "stdout",
     "output_type": "stream",
     "text": [
      "enter a number: 1\n",
      "enter a number: 3\n",
      "enter a number: 2\n",
      "enter a number: 4\n",
      "enter a number: 5\n",
      "[1, 3, 2, 4, 5]\n"
     ]
    }
   ],
   "source": [
    "#questions:\n",
    "#wap to a enter 5elements from user and append them into a list\n",
    "l=[]\n",
    "i=1\n",
    "while i<= 5:\n",
    "    n= int(input(\"enter a number: \"))\n",
    "    l.append(n)\n",
    "    i+=1\n",
    "print(l)"
   ]
  },
  {
   "cell_type": "code",
   "execution_count": 26,
   "id": "2428e17b",
   "metadata": {},
   "outputs": [
    {
     "name": "stdout",
     "output_type": "stream",
     "text": [
      "enter a number: 1\n",
      "enter a number: 2\n",
      "enter a number: 3\n",
      "enter a number: 4\n",
      "enter a number: 5\n",
      "15\n"
     ]
    }
   ],
   "source": [
    "#wap to enter 5numbers from user and print sum of them\n",
    "l=[]\n",
    "i=1\n",
    "while i<= 5:\n",
    "    n= int(input(\"enter a number: \"))\n",
    "    l.append(n)\n",
    "    i+=1\n",
    "print(sum(l))"
   ]
  },
  {
   "cell_type": "markdown",
   "id": "60698927",
   "metadata": {},
   "source": [
    "## linear search\n"
   ]
  },
  {
   "cell_type": "code",
   "execution_count": 28,
   "id": "04fde17d",
   "metadata": {},
   "outputs": [
    {
     "name": "stdout",
     "output_type": "stream",
     "text": [
      "True\n"
     ]
    }
   ],
   "source": [
    "l=[1,25,12,4,6,8,74,3] \n",
    "print(6 in l)"
   ]
  },
  {
   "cell_type": "code",
   "execution_count": 30,
   "id": "16b7687f",
   "metadata": {},
   "outputs": [
    {
     "name": "stdout",
     "output_type": "stream",
     "text": [
      "entera number to be searched: 5\n",
      "fail\n"
     ]
    }
   ],
   "source": [
    "l=[1,25,12,4,6,8,74,3] \n",
    "n=int(input(\"entera number to be searched: \"))\n",
    "i=0\n",
    "\n",
    "f=0 #flag bit variable\n",
    "#        8\n",
    "while i< len(l):\n",
    "    if n==l[i]:\n",
    "        f=1\n",
    "        break \n",
    "    i+= 1\n",
    "if f==1:\n",
    "    print(\"search success\")\n",
    "else:\n",
    "    print(\"fail\")"
   ]
  },
  {
   "cell_type": "code",
   "execution_count": null,
   "id": "75c976cd",
   "metadata": {},
   "outputs": [],
   "source": []
  }
 ],
 "metadata": {
  "kernelspec": {
   "display_name": "Python 3 (ipykernel)",
   "language": "python",
   "name": "python3"
  },
  "language_info": {
   "codemirror_mode": {
    "name": "ipython",
    "version": 3
   },
   "file_extension": ".py",
   "mimetype": "text/x-python",
   "name": "python",
   "nbconvert_exporter": "python",
   "pygments_lexer": "ipython3",
   "version": "3.9.7"
  }
 },
 "nbformat": 4,
 "nbformat_minor": 5
}
