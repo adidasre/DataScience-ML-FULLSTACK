{
 "cells": [
  {
   "cell_type": "markdown",
   "id": "f53141dd",
   "metadata": {},
   "source": [
    "#conditional statements"
   ]
  },
  {
   "cell_type": "markdown",
   "id": "7b930944",
   "metadata": {},
   "source": []
  },
  {
   "cell_type": "code",
   "execution_count": 1,
   "id": "15ac9045",
   "metadata": {},
   "outputs": [
    {
     "name": "stdout",
     "output_type": "stream",
     "text": [
      "hello indore\n"
     ]
    }
   ],
   "source": [
    "a = 10\n",
    "if a > 5:\n",
    "    {\n",
    "      print(\"hello indore\")  \n",
    "        \n",
    "        \n",
    "    }"
   ]
  },
  {
   "cell_type": "code",
   "execution_count": 5,
   "id": "21b04d2b",
   "metadata": {},
   "outputs": [
    {
     "name": "stdout",
     "output_type": "stream",
     "text": [
      "false\n"
     ]
    }
   ],
   "source": [
    "a = 10\n",
    "if a < 5:\n",
    "    \n",
    "      print(\"hello indore\")  \n",
    "else:\n",
    "    print(\"false\")\n",
    "        \n",
    "        \n",
    "    "
   ]
  },
  {
   "cell_type": "code",
   "execution_count": 4,
   "id": "2167c8be",
   "metadata": {},
   "outputs": [
    {
     "name": "stdout",
     "output_type": "stream",
     "text": [
      "bye\n"
     ]
    }
   ],
   "source": [
    "a = 10\n",
    "if a == 5:\n",
    "    \n",
    "      print(\"hello indore\")  \n",
    "else :\n",
    "            print(\"bye\")"
   ]
  },
  {
   "cell_type": "code",
   "execution_count": 6,
   "id": "334b3327",
   "metadata": {},
   "outputs": [
    {
     "name": "stdout",
     "output_type": "stream",
     "text": [
      "hello indore\n",
      "hi\n"
     ]
    }
   ],
   "source": [
    "a = 10\n",
    "if a > 5:\n",
    "    \n",
    "      print(\"hello indore\") \n",
    "      print(\"hi\")\n",
    "else :\n",
    "    print(\"bye\")\n",
    "        \n",
    "    "
   ]
  },
  {
   "cell_type": "code",
   "execution_count": 19,
   "id": "a07ab172",
   "metadata": {},
   "outputs": [
    {
     "name": "stdout",
     "output_type": "stream",
     "text": [
      "hello indore\n",
      "hi\n",
      "10\n"
     ]
    }
   ],
   "source": [
    "a = 10\n",
    "if a > 5:\n",
    "    \n",
    "    print(\"hello indore\") \n",
    "    print(\"hi\") \n",
    "    if a==10:\n",
    "         print (a)\n",
    "    \n",
    "    else : print (a+5)\n",
    "\n",
    "else: print (\"bye\")\n",
    "    "
   ]
  },
  {
   "cell_type": "code",
   "execution_count": 20,
   "id": "0ec3b3cf",
   "metadata": {},
   "outputs": [
    {
     "name": "stdout",
     "output_type": "stream",
     "text": [
      "hi\n",
      "hey\n"
     ]
    }
   ],
   "source": [
    "a = 10\n",
    "b=20\n",
    "if a> 5:\n",
    "    print(\"hi\")\n",
    "if b>5:\n",
    "    print(\"hey\")"
   ]
  },
  {
   "cell_type": "code",
   "execution_count": 21,
   "id": "237866d5",
   "metadata": {},
   "outputs": [],
   "source": [
    "#else if "
   ]
  },
  {
   "cell_type": "code",
   "execution_count": 24,
   "id": "8fe77224",
   "metadata": {},
   "outputs": [
    {
     "name": "stdout",
     "output_type": "stream",
     "text": [
      "hello indore\n"
     ]
    }
   ],
   "source": [
    "a = 10\n",
    "if a > 1:\n",
    "    print(\"hello indore\")\n",
    "elif a> 5:\n",
    "    print(\"hi indore\")\n",
    "else:\n",
    "    print(\"bye\")"
   ]
  },
  {
   "cell_type": "code",
   "execution_count": 25,
   "id": "e01acc44",
   "metadata": {},
   "outputs": [
    {
     "name": "stdout",
     "output_type": "stream",
     "text": [
      "hi indore\n"
     ]
    }
   ],
   "source": [
    "a = 10\n",
    "if a > 10:\n",
    "    print(\"hello indore\")\n",
    "elif a> 5:\n",
    "    print(\"hi indore\")\n",
    "elif a==10:\n",
    "    print(\"whatsapp\")\n",
    "else:\n",
    "    print(\"bye\")"
   ]
  },
  {
   "cell_type": "markdown",
   "id": "291ba2e8",
   "metadata": {},
   "source": [
    "#Wap to enter a no from user and print its charcater format\n",
    "1-one 2-two"
   ]
  },
  {
   "cell_type": "code",
   "execution_count": 26,
   "id": "c65a0a85",
   "metadata": {},
   "outputs": [
    {
     "name": "stdout",
     "output_type": "stream",
     "text": [
      "enter a number2\n",
      "two\n"
     ]
    }
   ],
   "source": [
    "a = 10\n",
    "if a > 1:\n",
    "    print(\"hello indore\")\n",
    "elif a> 5:\n",
    "    print(\"hi indore\")\n",
    "else:\n",
    "    print(\"bye\")"
   ]
  },
  {
   "cell_type": "markdown",
   "id": "3a676783",
   "metadata": {},
   "source": [
    "##wap to enter a letter from user check it is vowel or consonent\n",
    "a,e,i,o,u= vowel"
   ]
  },
  {
   "cell_type": "code",
   "execution_count": 31,
   "id": "1910929a",
   "metadata": {},
   "outputs": [
    {
     "name": "stdout",
     "output_type": "stream",
     "text": [
      "enter a letteri\n",
      "vowel \n"
     ]
    }
   ],
   "source": [
    "ch =input(\"enter a letter\")\n",
    "              \n",
    "if ch == 'a':\n",
    "    print(\"vowel\")\n",
    "elif ch == 'e':\n",
    "    print(\"vowel \")\n",
    "elif ch == 'i':\n",
    "    print(\"vowel \")\n",
    "elif ch == 'o' :\n",
    "    print(\"vowel \") \n",
    "elif ch == 'u':\n",
    "    print(\"vowel\")\n",
    "              \n",
    "              \n",
    "else:\n",
    "    print(\"consonant\")"
   ]
  },
  {
   "cell_type": "code",
   "execution_count": 32,
   "id": "4cc9d30e",
   "metadata": {},
   "outputs": [],
   "source": [
    "#using only one statemnt\n"
   ]
  },
  {
   "cell_type": "code",
   "execution_count": null,
   "id": "f9aa071b",
   "metadata": {},
   "outputs": [],
   "source": []
  }
 ],
 "metadata": {
  "kernelspec": {
   "display_name": "Python 3 (ipykernel)",
   "language": "python",
   "name": "python3"
  },
  "language_info": {
   "codemirror_mode": {
    "name": "ipython",
    "version": 3
   },
   "file_extension": ".py",
   "mimetype": "text/x-python",
   "name": "python",
   "nbconvert_exporter": "python",
   "pygments_lexer": "ipython3",
   "version": "3.9.7"
  }
 },
 "nbformat": 4,
 "nbformat_minor": 5
}
