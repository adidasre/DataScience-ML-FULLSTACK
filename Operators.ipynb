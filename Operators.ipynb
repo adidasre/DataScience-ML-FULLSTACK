{
 "cells": [
  {
   "cell_type": "markdown",
   "id": "d93d882f",
   "metadata": {},
   "source": [
    "Operators\n",
    "\n",
    "# Arithmatic Operators\n",
    "+,-,%,*,/,**,//"
   ]
  },
  {
   "cell_type": "code",
   "execution_count": 2,
   "id": "b4317f1c",
   "metadata": {},
   "outputs": [
    {
     "name": "stdout",
     "output_type": "stream",
     "text": [
      "30\n"
     ]
    }
   ],
   "source": [
    "print(10+20)"
   ]
  },
  {
   "cell_type": "code",
   "execution_count": 3,
   "id": "1e96a92c",
   "metadata": {},
   "outputs": [
    {
     "data": {
      "text/plain": [
       "2"
      ]
     },
     "execution_count": 3,
     "metadata": {},
     "output_type": "execute_result"
    }
   ],
   "source": [
    "14 % 3 #modulo\n"
   ]
  },
  {
   "cell_type": "code",
   "execution_count": 4,
   "id": "30663f8b",
   "metadata": {},
   "outputs": [
    {
     "data": {
      "text/plain": [
       "2"
      ]
     },
     "execution_count": 4,
     "metadata": {},
     "output_type": "execute_result"
    }
   ],
   "source": [
    "11 % 3"
   ]
  },
  {
   "cell_type": "code",
   "execution_count": 5,
   "id": "220c1241",
   "metadata": {},
   "outputs": [
    {
     "data": {
      "text/plain": [
       "0"
      ]
     },
     "execution_count": 5,
     "metadata": {},
     "output_type": "execute_result"
    }
   ],
   "source": [
    "18 % 3"
   ]
  },
  {
   "cell_type": "markdown",
   "id": "4433cf75",
   "metadata": {},
   "source": [
    "# Floor division //\n"
   ]
  },
  {
   "cell_type": "code",
   "execution_count": 6,
   "id": "1f3a9b07",
   "metadata": {},
   "outputs": [
    {
     "data": {
      "text/plain": [
       "3"
      ]
     },
     "execution_count": 6,
     "metadata": {},
     "output_type": "execute_result"
    }
   ],
   "source": [
    "7 // 2\n"
   ]
  },
  {
   "cell_type": "code",
   "execution_count": 7,
   "id": "2a6a15e6",
   "metadata": {},
   "outputs": [
    {
     "data": {
      "text/plain": [
       "3"
      ]
     },
     "execution_count": 7,
     "metadata": {},
     "output_type": "execute_result"
    }
   ],
   "source": [
    "11 // 3"
   ]
  },
  {
   "cell_type": "markdown",
   "id": "08505e29",
   "metadata": {},
   "source": [
    "# exponential (**)"
   ]
  },
  {
   "cell_type": "code",
   "execution_count": 8,
   "id": "434b1b98",
   "metadata": {},
   "outputs": [
    {
     "data": {
      "text/plain": [
       "8"
      ]
     },
     "execution_count": 8,
     "metadata": {},
     "output_type": "execute_result"
    }
   ],
   "source": [
    "2 ** 3 #(2 to the power 3 )"
   ]
  },
  {
   "cell_type": "markdown",
   "id": "47be0543",
   "metadata": {},
   "source": [
    "# 2 Boolean operators\n",
    "\n",
    "  1. true = 1 \n",
    "  2. false = 0"
   ]
  },
  {
   "cell_type": "markdown",
   "id": "ffd2b8fc",
   "metadata": {},
   "source": [
    "# 3 logical operators\n",
    "\n",
    "1. not\n",
    "2. and \n",
    "3. or "
   ]
  },
  {
   "cell_type": "code",
   "execution_count": 10,
   "id": "d00f06d0",
   "metadata": {},
   "outputs": [
    {
     "name": "stdout",
     "output_type": "stream",
     "text": [
      "False\n"
     ]
    }
   ],
   "source": [
    "print(not True)"
   ]
  },
  {
   "cell_type": "code",
   "execution_count": 11,
   "id": "6204ddef",
   "metadata": {},
   "outputs": [
    {
     "name": "stdout",
     "output_type": "stream",
     "text": [
      "True\n"
     ]
    }
   ],
   "source": [
    "print (not False)"
   ]
  },
  {
   "cell_type": "markdown",
   "id": "811237d5",
   "metadata": {},
   "source": [
    "Truth Table\n",
    "\n",
    "0 and 0 --0\n",
    "0 and 1 --0\n",
    "1 and 0 --0\n",
    "1 and 1 --1\n",
    "\n",
    "\n"
   ]
  },
  {
   "cell_type": "code",
   "execution_count": 12,
   "id": "4055076b",
   "metadata": {},
   "outputs": [
    {
     "name": "stdout",
     "output_type": "stream",
     "text": [
      "False\n"
     ]
    }
   ],
   "source": [
    "print (True and False)"
   ]
  },
  {
   "cell_type": "markdown",
   "id": "2d250f9b",
   "metadata": {},
   "source": [
    "truth table for or \n",
    "\n",
    "0 or 0 --0\n",
    "0 or 1 --1\n",
    "1 or 0 --1\n",
    "1 or 1 --1\n"
   ]
  },
  {
   "cell_type": "code",
   "execution_count": 13,
   "id": "489061bb",
   "metadata": {},
   "outputs": [
    {
     "name": "stdout",
     "output_type": "stream",
     "text": [
      "True\n"
     ]
    }
   ],
   "source": [
    "print (True or False)"
   ]
  },
  {
   "cell_type": "code",
   "execution_count": 14,
   "id": "ac0e2334",
   "metadata": {},
   "outputs": [
    {
     "name": "stdout",
     "output_type": "stream",
     "text": [
      "True\n"
     ]
    }
   ],
   "source": [
    "print (False or True)"
   ]
  },
  {
   "cell_type": "code",
   "execution_count": 15,
   "id": "c2f7b7d3",
   "metadata": {},
   "outputs": [
    {
     "name": "stdout",
     "output_type": "stream",
     "text": [
      "False\n"
     ]
    }
   ],
   "source": [
    "print (False or False)"
   ]
  },
  {
   "cell_type": "code",
   "execution_count": 17,
   "id": "8ef43ebc",
   "metadata": {},
   "outputs": [
    {
     "data": {
      "text/plain": [
       "True"
      ]
     },
     "execution_count": 17,
     "metadata": {},
     "output_type": "execute_result"
    }
   ],
   "source": [
    "True and False and not False or True or not False #evrything will work left to right\n"
   ]
  },
  {
   "cell_type": "markdown",
   "id": "d3c1af1d",
   "metadata": {},
   "source": [
    "# relational operators\n",
    ">,<,=,<=,>= , !=, =="
   ]
  },
  {
   "cell_type": "code",
   "execution_count": 18,
   "id": "9d1d4bde",
   "metadata": {},
   "outputs": [
    {
     "data": {
      "text/plain": [
       "True"
      ]
     },
     "execution_count": 18,
     "metadata": {},
     "output_type": "execute_result"
    }
   ],
   "source": [
    "10 > 5"
   ]
  },
  {
   "cell_type": "code",
   "execution_count": 19,
   "id": "43b857a3",
   "metadata": {},
   "outputs": [
    {
     "data": {
      "text/plain": [
       "True"
      ]
     },
     "execution_count": 19,
     "metadata": {},
     "output_type": "execute_result"
    }
   ],
   "source": [
    "10 >= 5"
   ]
  },
  {
   "cell_type": "code",
   "execution_count": 20,
   "id": "e538ece1",
   "metadata": {},
   "outputs": [
    {
     "data": {
      "text/plain": [
       "True"
      ]
     },
     "execution_count": 20,
     "metadata": {},
     "output_type": "execute_result"
    }
   ],
   "source": [
    "10>= 10"
   ]
  },
  {
   "cell_type": "code",
   "execution_count": 21,
   "id": "c955a89b",
   "metadata": {},
   "outputs": [
    {
     "data": {
      "text/plain": [
       "False"
      ]
     },
     "execution_count": 21,
     "metadata": {},
     "output_type": "execute_result"
    }
   ],
   "source": [
    "10 != 10"
   ]
  },
  {
   "cell_type": "code",
   "execution_count": 22,
   "id": "6bc734dc",
   "metadata": {},
   "outputs": [
    {
     "data": {
      "text/plain": [
       "True"
      ]
     },
     "execution_count": 22,
     "metadata": {},
     "output_type": "execute_result"
    }
   ],
   "source": [
    "10 == 10 #single = meaans to assign == means equal to"
   ]
  },
  {
   "cell_type": "markdown",
   "id": "19c54b14",
   "metadata": {},
   "source": [
    "# assignment o\n",
    "+=, -=,*=,/=, %=,/= ,//="
   ]
  },
  {
   "cell_type": "code",
   "execution_count": 23,
   "id": "14e311e0",
   "metadata": {},
   "outputs": [
    {
     "name": "stdout",
     "output_type": "stream",
     "text": [
      "15\n"
     ]
    }
   ],
   "source": [
    "a= 10\n",
    "a +=5 #a=a+5\n",
    "print(a)"
   ]
  },
  {
   "cell_type": "code",
   "execution_count": 24,
   "id": "da39200e",
   "metadata": {},
   "outputs": [
    {
     "name": "stdout",
     "output_type": "stream",
     "text": [
      "0\n"
     ]
    }
   ],
   "source": [
    "a= 10\n",
    "a %= 2\n",
    "print(a)"
   ]
  },
  {
   "cell_type": "code",
   "execution_count": 26,
   "id": "827830d0",
   "metadata": {},
   "outputs": [
    {
     "name": "stdout",
     "output_type": "stream",
     "text": [
      "100\n"
     ]
    }
   ],
   "source": [
    "a = 10\n",
    "a **= 2\n",
    "print(a)"
   ]
  },
  {
   "cell_type": "markdown",
   "id": "2c1e2594",
   "metadata": {},
   "source": [
    "++\n",
    "--"
   ]
  },
  {
   "cell_type": "code",
   "execution_count": 28,
   "id": "618a408e",
   "metadata": {},
   "outputs": [
    {
     "name": "stdout",
     "output_type": "stream",
     "text": [
      "11\n"
     ]
    }
   ],
   "source": [
    "a = 10\n",
    "a += 1\n",
    "print(a)"
   ]
  },
  {
   "cell_type": "markdown",
   "id": "18479280",
   "metadata": {},
   "source": [
    "6.bitwise operators \n",
    "& bitwise and\n",
    "| bitwise or\n",
    "^ bitwise xor \n",
    "<<         right shift >>  left shift"
   ]
  },
  {
   "cell_type": "markdown",
   "id": "c5ef3345",
   "metadata": {},
   "source": [
    "1024 512  256 128 64 32 16 8 4 2 1\n",
    "\n"
   ]
  },
  {
   "cell_type": "code",
   "execution_count": 30,
   "id": "3e7b2f30",
   "metadata": {},
   "outputs": [
    {
     "data": {
      "text/plain": [
       "0"
      ]
     },
     "execution_count": 30,
     "metadata": {},
     "output_type": "execute_result"
    }
   ],
   "source": [
    "8 & 2\n"
   ]
  },
  {
   "cell_type": "code",
   "execution_count": 31,
   "id": "032bc5a4",
   "metadata": {},
   "outputs": [
    {
     "data": {
      "text/plain": [
       "0"
      ]
     },
     "execution_count": 31,
     "metadata": {},
     "output_type": "execute_result"
    }
   ],
   "source": [
    "11 & 4  # 1011\n",
    "        #0100 #1  0000"
   ]
  },
  {
   "cell_type": "code",
   "execution_count": 32,
   "id": "fd6a9f1a",
   "metadata": {},
   "outputs": [
    {
     "data": {
      "text/plain": [
       "15"
      ]
     },
     "execution_count": 32,
     "metadata": {},
     "output_type": "execute_result"
    }
   ],
   "source": [
    "7 | 9  #0111 #1001\n",
    "\n"
   ]
  },
  {
   "cell_type": "code",
   "execution_count": 33,
   "id": "aff2f871",
   "metadata": {},
   "outputs": [
    {
     "data": {
      "text/plain": [
       "9"
      ]
     },
     "execution_count": 33,
     "metadata": {},
     "output_type": "execute_result"
    }
   ],
   "source": [
    "15 ^ 6 #1111 #0110 #1001 #similar = 0"
   ]
  },
  {
   "cell_type": "code",
   "execution_count": 34,
   "id": "0d30a65c",
   "metadata": {},
   "outputs": [
    {
     "data": {
      "text/plain": [
       "32"
      ]
     },
     "execution_count": 34,
     "metadata": {},
     "output_type": "execute_result"
    }
   ],
   "source": [
    "8 << 2  #1000"
   ]
  },
  {
   "cell_type": "code",
   "execution_count": 35,
   "id": "20350661",
   "metadata": {},
   "outputs": [
    {
     "data": {
      "text/plain": [
       "88"
      ]
     },
     "execution_count": 35,
     "metadata": {},
     "output_type": "execute_result"
    }
   ],
   "source": [
    "11 << 3"
   ]
  },
  {
   "cell_type": "code",
   "execution_count": 36,
   "id": "6dbcf967",
   "metadata": {},
   "outputs": [
    {
     "data": {
      "text/plain": [
       "1"
      ]
     },
     "execution_count": 36,
     "metadata": {},
     "output_type": "execute_result"
    }
   ],
   "source": [
    "7 >> 2"
   ]
  },
  {
   "cell_type": "code",
   "execution_count": null,
   "id": "e7e2f6f6",
   "metadata": {},
   "outputs": [],
   "source": []
  }
 ],
 "metadata": {
  "kernelspec": {
   "display_name": "Python 3 (ipykernel)",
   "language": "python",
   "name": "python3"
  },
  "language_info": {
   "codemirror_mode": {
    "name": "ipython",
    "version": 3
   },
   "file_extension": ".py",
   "mimetype": "text/x-python",
   "name": "python",
   "nbconvert_exporter": "python",
   "pygments_lexer": "ipython3",
   "version": "3.9.7"
  }
 },
 "nbformat": 4,
 "nbformat_minor": 5
}
