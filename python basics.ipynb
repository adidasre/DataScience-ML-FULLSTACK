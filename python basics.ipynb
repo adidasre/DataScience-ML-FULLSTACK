{
 "cells": [
  {
   "cell_type": "code",
   "execution_count": 2,
   "id": "2974e8b1",
   "metadata": {},
   "outputs": [
    {
     "name": "stdout",
     "output_type": "stream",
     "text": [
      "aditi\n"
     ]
    }
   ],
   "source": [
    "print(\"aditi\")\n"
   ]
  },
  {
   "cell_type": "markdown",
   "id": "50198cb1",
   "metadata": {},
   "source": [
    "#python basics\n"
   ]
  },
  {
   "cell_type": "code",
   "execution_count": 3,
   "id": "4b54a577",
   "metadata": {},
   "outputs": [
    {
     "name": "stdout",
     "output_type": "stream",
     "text": [
      "hello\n",
      "world\n"
     ]
    }
   ],
   "source": [
    "print(\"hello\\nworld\") #newline character\n"
   ]
  },
  {
   "cell_type": "code",
   "execution_count": 4,
   "id": "10dbe22f",
   "metadata": {},
   "outputs": [
    {
     "name": "stdout",
     "output_type": "stream",
     "text": [
      "hello\tworld\n"
     ]
    }
   ],
   "source": [
    " print (\"hello\\tworld\") #horizontal tab"
   ]
  },
  {
   "cell_type": "markdown",
   "id": "5b6963db",
   "metadata": {},
   "source": [
    "#Variables\n"
   ]
  },
  {
   "cell_type": "code",
   "execution_count": 5,
   "id": "d4f54aef",
   "metadata": {},
   "outputs": [
    {
     "name": "stdout",
     "output_type": "stream",
     "text": [
      "10\n"
     ]
    }
   ],
   "source": [
    "a=10\n",
    "print(a)"
   ]
  },
  {
   "cell_type": "code",
   "execution_count": 6,
   "id": "16c2d348",
   "metadata": {},
   "outputs": [
    {
     "name": "stdout",
     "output_type": "stream",
     "text": [
      "10.5\n"
     ]
    }
   ],
   "source": [
    "b=10.5\n",
    "print (b)"
   ]
  },
  {
   "cell_type": "code",
   "execution_count": 7,
   "id": "bc3d5b78",
   "metadata": {},
   "outputs": [
    {
     "name": "stdout",
     "output_type": "stream",
     "text": [
      "indore\n"
     ]
    }
   ],
   "source": [
    "c=(\"indore\")\n",
    "print(c)"
   ]
  },
  {
   "cell_type": "code",
   "execution_count": 8,
   "id": "8de9bb6a",
   "metadata": {},
   "outputs": [
    {
     "name": "stdout",
     "output_type": "stream",
     "text": [
      "10\n",
      "<class 'int'>\n"
     ]
    }
   ],
   "source": [
    "a= 10\n",
    "print(a)\n",
    "print(type(a))"
   ]
  },
  {
   "cell_type": "code",
   "execution_count": 9,
   "id": "b468670d",
   "metadata": {},
   "outputs": [
    {
     "name": "stdout",
     "output_type": "stream",
     "text": [
      "<class 'float'>\n"
     ]
    }
   ],
   "source": [
    "b= 10.5\n",
    "print (type(b))\n"
   ]
  },
  {
   "cell_type": "code",
   "execution_count": 10,
   "id": "28a68133",
   "metadata": {},
   "outputs": [
    {
     "name": "stdout",
     "output_type": "stream",
     "text": [
      "<class 'str'>\n"
     ]
    }
   ],
   "source": [
    "c=\"Indore\"\n",
    "print(type(c))"
   ]
  },
  {
   "cell_type": "code",
   "execution_count": 11,
   "id": "7b906215",
   "metadata": {},
   "outputs": [
    {
     "name": "stdout",
     "output_type": "stream",
     "text": [
      "A\n"
     ]
    }
   ],
   "source": [
    "d='A'\n",
    "print(d)"
   ]
  },
  {
   "cell_type": "code",
   "execution_count": 12,
   "id": "7257f10c",
   "metadata": {},
   "outputs": [
    {
     "name": "stdout",
     "output_type": "stream",
     "text": [
      "<class 'str'>\n"
     ]
    }
   ],
   "source": [
    "print(type(d))"
   ]
  },
  {
   "cell_type": "markdown",
   "id": "da4ffb6b",
   "metadata": {},
   "source": [
    "User Input"
   ]
  },
  {
   "cell_type": "code",
   "execution_count": 13,
   "id": "105c9207",
   "metadata": {},
   "outputs": [
    {
     "name": "stdout",
     "output_type": "stream",
     "text": [
      "1\n",
      "1\n"
     ]
    }
   ],
   "source": [
    "x= input()\n",
    "print (x)"
   ]
  },
  {
   "cell_type": "code",
   "execution_count": 14,
   "id": "1dee53c6",
   "metadata": {},
   "outputs": [
    {
     "name": "stdout",
     "output_type": "stream",
     "text": [
      "enter your nameaditi\n",
      "aditi\n"
     ]
    }
   ],
   "source": [
    "x= input(\"enter your name\")\n",
    "print(x)"
   ]
  },
  {
   "cell_type": "code",
   "execution_count": 15,
   "id": "89b11f69",
   "metadata": {},
   "outputs": [
    {
     "name": "stdout",
     "output_type": "stream",
     "text": [
      "enter your nameAditi\n",
      "hello Aditi\n"
     ]
    }
   ],
   "source": [
    "x= input (\"enter your name\")\n",
    "print(\"hello\", x)"
   ]
  },
  {
   "cell_type": "markdown",
   "id": "a0b62404",
   "metadata": {},
   "source": [
    "###Wap to enter 2 numbers from userand print addition of them\n",
    "\n"
   ]
  },
  {
   "cell_type": "code",
   "execution_count": 16,
   "id": "5ed47187",
   "metadata": {},
   "outputs": [
    {
     "name": "stdout",
     "output_type": "stream",
     "text": [
      "enter first number:  2\n",
      "enter second number 2\n",
      "22\n"
     ]
    }
   ],
   "source": [
    "a= input(\"enter first number:  \")\n",
    "b= input(\"enter second number \")\n",
    "c= a+b\n",
    "print (c)"
   ]
  },
  {
   "cell_type": "markdown",
   "id": "515c59cf",
   "metadata": {},
   "source": [
    "Type casting"
   ]
  },
  {
   "cell_type": "code",
   "execution_count": 17,
   "id": "4de25b63",
   "metadata": {},
   "outputs": [
    {
     "name": "stdout",
     "output_type": "stream",
     "text": [
      "10\n"
     ]
    }
   ],
   "source": [
    "a = 10.5\n",
    "b=int(a)\n",
    "print (b)\n"
   ]
  },
  {
   "cell_type": "code",
   "execution_count": 18,
   "id": "e9ebb611",
   "metadata": {},
   "outputs": [
    {
     "name": "stdout",
     "output_type": "stream",
     "text": [
      "<class 'int'>\n"
     ]
    }
   ],
   "source": [
    "print(type(b))"
   ]
  },
  {
   "cell_type": "code",
   "execution_count": 19,
   "id": "af80e46d",
   "metadata": {},
   "outputs": [
    {
     "name": "stdout",
     "output_type": "stream",
     "text": [
      "<class 'str'>\n",
      "<class 'int'>\n"
     ]
    }
   ],
   "source": [
    "a=\"10\"\n",
    "print(type(a))\n",
    "b=int (a)\n",
    "print(type(b))"
   ]
  },
  {
   "cell_type": "code",
   "execution_count": 20,
   "id": "b9b1aab8",
   "metadata": {},
   "outputs": [
    {
     "data": {
      "text/plain": [
       "'1020'"
      ]
     },
     "execution_count": 20,
     "metadata": {},
     "output_type": "execute_result"
    }
   ],
   "source": [
    "\"10\"+\"20\" #gives combine string \n"
   ]
  },
  {
   "cell_type": "markdown",
   "id": "18c1e332",
   "metadata": {},
   "source": [
    "#so convert string to integer then we will get addition"
   ]
  },
  {
   "cell_type": "code",
   "execution_count": 24,
   "id": "58ffe984",
   "metadata": {},
   "outputs": [
    {
     "name": "stdout",
     "output_type": "stream",
     "text": [
      "enter first number:  2\n",
      "enter second number: 2\n",
      "Addition =  4\n"
     ]
    }
   ],
   "source": [
    "a= int(input(\"enter first number:  \"))\n",
    "b= int(input(\"enter second number: \"))\n",
    "c= a + b\n",
    "print (\"Addition = \", c)"
   ]
  },
  {
   "cell_type": "code",
   "execution_count": null,
   "id": "706691ef",
   "metadata": {},
   "outputs": [],
   "source": []
  }
 ],
 "metadata": {
  "kernelspec": {
   "display_name": "Python 3 (ipykernel)",
   "language": "python",
   "name": "python3"
  },
  "language_info": {
   "codemirror_mode": {
    "name": "ipython",
    "version": 3
   },
   "file_extension": ".py",
   "mimetype": "text/x-python",
   "name": "python",
   "nbconvert_exporter": "python",
   "pygments_lexer": "ipython3",
   "version": "3.9.7"
  }
 },
 "nbformat": 4,
 "nbformat_minor": 5
}
