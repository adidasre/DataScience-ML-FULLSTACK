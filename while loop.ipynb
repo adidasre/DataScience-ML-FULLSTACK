{
 "cells": [
  {
   "cell_type": "markdown",
   "id": "1a655cec",
   "metadata": {},
   "source": [
    "#While LOOP\n"
   ]
  },
  {
   "cell_type": "code",
   "execution_count": 1,
   "id": "3188e54a",
   "metadata": {},
   "outputs": [
    {
     "name": "stdout",
     "output_type": "stream",
     "text": [
      "aditi\n",
      "aditi\n",
      "aditi\n",
      "aditi\n",
      "aditi\n",
      "aditi\n",
      "aditi\n",
      "aditi\n",
      "aditi\n",
      "aditi\n"
     ]
    }
   ],
   "source": [
    "i=1\n",
    "while i <= 10 :\n",
    "    print(\"aditi\")\n",
    "    i += 1          #i = i+1\n",
    "    "
   ]
  },
  {
   "cell_type": "code",
   "execution_count": 2,
   "id": "57417db3",
   "metadata": {},
   "outputs": [
    {
     "name": "stdout",
     "output_type": "stream",
     "text": [
      "1\n",
      "2\n",
      "3\n",
      "4\n",
      "5\n",
      "6\n",
      "7\n",
      "8\n",
      "9\n",
      "10\n"
     ]
    }
   ],
   "source": [
    "i = 1\n",
    "while i <= 10:\n",
    "    print(i)\n",
    "    i+=1\n",
    "    "
   ]
  },
  {
   "cell_type": "code",
   "execution_count": 3,
   "id": "15c4660b",
   "metadata": {},
   "outputs": [
    {
     "name": "stdout",
     "output_type": "stream",
     "text": [
      "Hello\n",
      "World\n"
     ]
    }
   ],
   "source": [
    "print(\"Hello\\nWorld\")"
   ]
  },
  {
   "cell_type": "code",
   "execution_count": 4,
   "id": "808d93e1",
   "metadata": {},
   "outputs": [
    {
     "name": "stdout",
     "output_type": "stream",
     "text": [
      "hello\n",
      "world\n"
     ]
    }
   ],
   "source": [
    "print(\"hello\")\n",
    "print(\"world\")"
   ]
  },
  {
   "cell_type": "code",
   "execution_count": 5,
   "id": "4e1e952f",
   "metadata": {},
   "outputs": [
    {
     "name": "stdout",
     "output_type": "stream",
     "text": [
      "helloworld\n"
     ]
    }
   ],
   "source": [
    "print(\"hello\", end=\"\") #line should not change\n",
    "print(\"world\")"
   ]
  },
  {
   "cell_type": "code",
   "execution_count": 6,
   "id": "9dde7d84",
   "metadata": {},
   "outputs": [
    {
     "name": "stdout",
     "output_type": "stream",
     "text": [
      "1 2 3 4 5 6 7 8 9 10 "
     ]
    }
   ],
   "source": [
    "#if I want o/p 1 2 3 4 5 6 7 8 9\n",
    "i = 1\n",
    "while i <= 10:\n",
    "    print(i, end =\" \")\n",
    "    i+=1"
   ]
  },
  {
   "cell_type": "code",
   "execution_count": 8,
   "id": "60cc0c4f",
   "metadata": {},
   "outputs": [],
   "source": [
    "#** wap to print following output **\n"
   ]
  },
  {
   "cell_type": "code",
   "execution_count": 9,
   "id": "cddfe83b",
   "metadata": {},
   "outputs": [
    {
     "name": "stdout",
     "output_type": "stream",
     "text": [
      "1 4 9 16 25 36 49 64 81 100 "
     ]
    }
   ],
   "source": [
    "# 1 4 9 16 32 49 64 81 100\n",
    "i = 1\n",
    "while i <= 10:\n",
    "    print(i*i, end =\" \")\n",
    "    i+=1"
   ]
  },
  {
   "cell_type": "code",
   "execution_count": 10,
   "id": "418924d5",
   "metadata": {},
   "outputs": [
    {
     "name": "stdout",
     "output_type": "stream",
     "text": [
      "1+2+3+4+5+6+7+8+9+10+"
     ]
    }
   ],
   "source": [
    "#1+2+3+4+5+6+7+8+9+10\n",
    "i = 1\n",
    "while i <= 10:\n",
    "    print(i, end =\"+\")\n",
    "    i+=1"
   ]
  },
  {
   "cell_type": "code",
   "execution_count": 14,
   "id": "39bb3181",
   "metadata": {},
   "outputs": [
    {
     "name": "stdout",
     "output_type": "stream",
     "text": [
      "1+2+3+4+5+6+7+8+9+10\n"
     ]
    }
   ],
   "source": [
    "i = 1\n",
    "while i <= 10:\n",
    "    if i < 10:\n",
    "        print(i, end=\"+\")\n",
    "    else:\n",
    "        print(i)\n",
    "    i+=1"
   ]
  },
  {
   "cell_type": "code",
   "execution_count": 15,
   "id": "cb6f5116",
   "metadata": {},
   "outputs": [],
   "source": [
    "# 1/1 2/4 3/9 4/16 5/25 6/36 7/49 8/64 9/81 10/100\n"
   ]
  },
  {
   "cell_type": "code",
   "execution_count": 16,
   "id": "fa9e0236",
   "metadata": {},
   "outputs": [
    {
     "name": "stdout",
     "output_type": "stream",
     "text": [
      "1\n",
      "2\n",
      "3\n",
      "4\n",
      "Hi\n"
     ]
    }
   ],
   "source": [
    "# break statement\n",
    "i= 1\n",
    "while i <= 10:\n",
    "    if i ==5:\n",
    "        print(\"Hi\")\n",
    "        break\n",
    "    print(i)\n",
    "    i+=1"
   ]
  },
  {
   "cell_type": "code",
   "execution_count": 17,
   "id": "a0db40e2",
   "metadata": {},
   "outputs": [
    {
     "name": "stdout",
     "output_type": "stream",
     "text": [
      "1\n",
      "3\n",
      "5\n",
      "7\n",
      "9\n",
      "11\n"
     ]
    }
   ],
   "source": [
    "#continue statemnt opposite of break\n",
    "i=0 \n",
    "while i<=10:\n",
    "    i+= 1\n",
    "    if i%2 ==0 :\n",
    "        continue \n",
    "    else:\n",
    "        print(i)"
   ]
  },
  {
   "cell_type": "code",
   "execution_count": 18,
   "id": "8dc3cb20",
   "metadata": {},
   "outputs": [
    {
     "name": "stdout",
     "output_type": "stream",
     "text": [
      "enter a number10\n",
      "your number is : 10\n",
      "enter a number20\n",
      "your number is : 20\n",
      "enter a number30\n",
      "your number is : 30\n",
      "enter a number40\n",
      "your number is : 40\n",
      "enter a number50\n",
      "your number is : 50\n"
     ]
    }
   ],
   "source": [
    "#WAP to enter 5number from user and print them\n",
    "i= 1\n",
    "while i<= 5:\n",
    "    a=int(input(\"enter a number\"))\n",
    "    print(\"your number is :\", a)\n",
    "    i+=1"
   ]
  },
  {
   "cell_type": "code",
   "execution_count": 19,
   "id": "1d414e60",
   "metadata": {},
   "outputs": [
    {
     "name": "stdout",
     "output_type": "stream",
     "text": [
      "enter a number10\n",
      "enter a number20\n",
      "enter a number30\n",
      "enter a number40\n",
      "enter a number50\n",
      "sum =  150\n"
     ]
    }
   ],
   "source": [
    "#wap to enter 5numbers from user and print sum of them\n",
    "i= 1\n",
    "s=0\n",
    "while i<= 5:\n",
    "    a=int(input(\"enter a number\"))\n",
    "    s=s+a\n",
    "    i+=1\n",
    "print(\"sum = \", s)\n",
    "    "
   ]
  },
  {
   "cell_type": "code",
   "execution_count": 25,
   "id": "b72c414f",
   "metadata": {},
   "outputs": [
    {
     "name": "stdout",
     "output_type": "stream",
     "text": [
      "enter a number: 153\n",
      "351"
     ]
    }
   ],
   "source": [
    "#** wap to enter a number from useer and print  reverse \n",
    "# 153 % 10 -3\n",
    "#153 // 10 -15 (floor division removes decimal value)\n",
    "#15% 10 - 5\n",
    "#15 // 10 - 1\n",
    "# 1 % 10 - 1\n",
    "#1 // 10 - 0\n",
    "\n",
    "n=int(input(\"enter a number: \"))\n",
    "while n>0 : \n",
    "    r = n % 10\n",
    "    print(r, end=\"\")\n",
    "    n= n // 10 \n"
   ]
  },
  {
   "cell_type": "code",
   "execution_count": 26,
   "id": "45ca5c70",
   "metadata": {},
   "outputs": [
    {
     "name": "stdout",
     "output_type": "stream",
     "text": [
      "enter a number: 10\n",
      "sum =  1\n"
     ]
    }
   ],
   "source": [
    "#wap to enter nuber from user and print sum of its individual digits\n",
    "# 153= 1+5+3 \n",
    "# 9\n",
    "n=int(input(\"enter a number: \"))\n",
    "s=0\n",
    "while n>0 : \n",
    "    r = n % 10\n",
    "    s= s+r\n",
    "    n= n // 10 \n",
    "print(\"sum = \",s )\n",
    "\n",
    "\n"
   ]
  },
  {
   "cell_type": "code",
   "execution_count": 28,
   "id": "8227e589",
   "metadata": {},
   "outputs": [
    {
     "name": "stdout",
     "output_type": "stream",
     "text": [
      "enter a number: 351\n",
      "reverse=  153\n"
     ]
    }
   ],
   "source": [
    "#reverse of a number\n",
    "n=int(input(\"enter a number: \"))\n",
    "s=0\n",
    "while n>0 : \n",
    "    r = n % 10\n",
    "    s= s * 10 +r\n",
    "    n= n // 10 \n",
    "print(\"reverse= \",s )"
   ]
  },
  {
   "cell_type": "code",
   "execution_count": 29,
   "id": "3ab8db79",
   "metadata": {},
   "outputs": [
    {
     "name": "stdout",
     "output_type": "stream",
     "text": [
      "enter a number: 121\n",
      "Palindrome\n"
     ]
    }
   ],
   "source": [
    "#wap to enter a number from user and check if it is palindrome or not\n",
    "n=int(input(\"enter a number: \"))\n",
    "temp= n\n",
    "s=0\n",
    "while n> 0:\n",
    "    r=n% 10\n",
    "    s=s*10 +r \n",
    "    n= n // 10\n",
    "if s== temp :\n",
    "    print (\"Palindrome\")\n",
    "else:\n",
    "    print (\"non palindrome\")"
   ]
  },
  {
   "cell_type": "code",
   "execution_count": 30,
   "id": "62a8bfcd",
   "metadata": {},
   "outputs": [
    {
     "name": "stdout",
     "output_type": "stream",
     "text": [
      "enter a number: 123\n",
      "non armstrong\n"
     ]
    }
   ],
   "source": [
    "#wap to enter a number from user and check if it is armstrong or not\n",
    "#153- cube(1)+cube (5)+ cube (3)-153\n",
    "#370-27+342+0 -370\n",
    "#371\n",
    "n=int(input(\"enter a number: \"))\n",
    "temp= n\n",
    "s=0\n",
    "while n> 0:\n",
    "    r=n% 10\n",
    "    s=s*10 +r \n",
    "    n= n // 10\n",
    "if s== temp :\n",
    "    print (\"armstrong\")\n",
    "else:\n",
    "    print (\"non armstrong\")"
   ]
  },
  {
   "cell_type": "code",
   "execution_count": 33,
   "id": "7e6035ca",
   "metadata": {},
   "outputs": [
    {
     "name": "stdout",
     "output_type": "stream",
     "text": [
      "enter a number: 153\n",
      "1\n",
      "5\n",
      "3\n"
     ]
    }
   ],
   "source": [
    "#wap to enter a number from user and print its individual digit on seprate line\n",
    "n=int(input(\"enter a number: \"))\n",
    "s=0\n",
    "while n> 0:\n",
    "    r=n % 10\n",
    "    s= s*10 + r #reverse\n",
    "    n= n // 10\n",
    "while s > 0:\n",
    "    r= s % 10\n",
    "    print(r)\n",
    "    s=s // 10"
   ]
  },
  {
   "cell_type": "code",
   "execution_count": 34,
   "id": "a5292c3e",
   "metadata": {},
   "outputs": [
    {
     "name": "stdout",
     "output_type": "stream",
     "text": [
      "enter a number: 153\n",
      "one\n",
      "five\n",
      "three\n"
     ]
    }
   ],
   "source": [
    "#wap to enter a number from user and print its individual digit in character\n",
    "#153=one five three\n",
    "n=int(input(\"enter a number: \"))\n",
    "s=0\n",
    "while n> 0:\n",
    "    r=n % 10\n",
    "    s= s*10 + r #reverse\n",
    "    n= n // 10\n",
    "while s > 0:\n",
    "    r= s % 10\n",
    "    if r==1:\n",
    "        print(\"one\")\n",
    "    elif r==2:\n",
    "        print(\"two\")\n",
    "    elif r==3:\n",
    "        print(\"three\")\n",
    "    elif r==4:\n",
    "        print(\"four\")\n",
    "    elif r==5:\n",
    "        print(\"five\")\n",
    "    elif r==6:\n",
    "        print(\"six\")\n",
    "    elif r==7:\n",
    "        print(\"seven\")\n",
    "    elif r==8:\n",
    "        print(\"eight\")\n",
    "    elif r==9:\n",
    "        print(\"nine\")\n",
    "    else:\n",
    "        print(\"zero\")\n",
    "    s=s // 10"
   ]
  },
  {
   "cell_type": "code",
   "execution_count": 35,
   "id": "f9e2a003",
   "metadata": {},
   "outputs": [
    {
     "name": "stdout",
     "output_type": "stream",
     "text": [
      "enter a number5\n",
      "factorial =  120\n"
     ]
    }
   ],
   "source": [
    "#wap for factorial of  a number (5!= 5*4*3*2*1)\n",
    "n=int(input(\"enter a number\"))\n",
    "f = 1\n",
    "while n> 1:\n",
    "    f=f* n   #f=1,5,20,60,120\n",
    "    n -= 1  #n= 5,4,3,2,1\n",
    "print(\"factorial = \", f)"
   ]
  },
  {
   "cell_type": "code",
   "execution_count": null,
   "id": "75a548ca",
   "metadata": {},
   "outputs": [],
   "source": [
    "#nested loop:\n",
    "i=1\n",
    "j=1\n",
    "while i<= 3:\n",
    "        \n",
    "        while j <=3:\n",
    "            print(i,j, end=\" \")\n",
    "            j += 1\n",
    "        print()\n",
    "            i +=1"
   ]
  },
  {
   "cell_type": "code",
   "execution_count": 53,
   "id": "728a7814",
   "metadata": {},
   "outputs": [
    {
     "name": "stdout",
     "output_type": "stream",
     "text": [
      "111213\n",
      "212223\n",
      "313233\n"
     ]
    }
   ],
   "source": [
    "i=1\n",
    "\n",
    "while i<= 3:\n",
    "    j=1\n",
    "    while j <=3:\n",
    "            print(i, end=\"\")\n",
    "            print(j, end=\"\")\n",
    "            j += 1\n",
    "    print()\n",
    "    i +=1"
   ]
  },
  {
   "cell_type": "code",
   "execution_count": 55,
   "id": "502856a9",
   "metadata": {},
   "outputs": [
    {
     "name": "stdout",
     "output_type": "stream",
     "text": [
      "*\n",
      "**\n",
      "***\n",
      "****\n",
      "*****\n"
     ]
    }
   ],
   "source": [
    "#*\n",
    "#**\n",
    "#***\n",
    "#****\n",
    "#*****\n",
    "\n",
    "i=1\n",
    "while i <=5:\n",
    "    j=1\n",
    "    while j <= i:\n",
    "        print(\"*\" , end=\"\")\n",
    "        j+=1\n",
    "    print()\n",
    "    i+=1 "
   ]
  },
  {
   "cell_type": "code",
   "execution_count": 58,
   "id": "96d59a54",
   "metadata": {},
   "outputs": [
    {
     "name": "stdout",
     "output_type": "stream",
     "text": [
      "1\n",
      "12\n",
      "123\n",
      "1234\n",
      "12345\n"
     ]
    }
   ],
   "source": [
    "# 1\n",
    "# 12\n",
    "# 123\n",
    "# 1234\n",
    "# 12345\n",
    "i=1\n",
    "while i <=5:\n",
    "    j=1\n",
    "    while j <= i:\n",
    "        print(j , end=\"\")\n",
    "        j+=1\n",
    "    print()\n",
    "    i+=1 "
   ]
  },
  {
   "cell_type": "code",
   "execution_count": 59,
   "id": "fde5b00d",
   "metadata": {},
   "outputs": [
    {
     "name": "stdout",
     "output_type": "stream",
     "text": [
      "1\n",
      "22\n",
      "333\n",
      "4444\n",
      "55555\n"
     ]
    }
   ],
   "source": [
    "i=1\n",
    "while i <=5:\n",
    "    j=1\n",
    "    while j <= i:\n",
    "        print(i , end=\"\")\n",
    "        j+=1\n",
    "    print()\n",
    "    i+=1 "
   ]
  },
  {
   "cell_type": "code",
   "execution_count": null,
   "id": "f5788e9d",
   "metadata": {},
   "outputs": [],
   "source": []
  }
 ],
 "metadata": {
  "kernelspec": {
   "display_name": "Python 3 (ipykernel)",
   "language": "python",
   "name": "python3"
  },
  "language_info": {
   "codemirror_mode": {
    "name": "ipython",
    "version": 3
   },
   "file_extension": ".py",
   "mimetype": "text/x-python",
   "name": "python",
   "nbconvert_exporter": "python",
   "pygments_lexer": "ipython3",
   "version": "3.9.7"
  }
 },
 "nbformat": 4,
 "nbformat_minor": 5
}
