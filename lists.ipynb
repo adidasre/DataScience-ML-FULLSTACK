{
 "cells": [
  {
   "cell_type": "code",
   "execution_count": 1,
   "id": "5bbf41f4",
   "metadata": {},
   "outputs": [
    {
     "name": "stdout",
     "output_type": "stream",
     "text": [
      "['A', 100, 5, 10.5]\n"
     ]
    }
   ],
   "source": [
    "#lists: are collection of diffrent type of elements:\n",
    "l=[\"A\",100,5,10.5]\n",
    "# indexing 0 1 2 3\n",
    "print(l)"
   ]
  },
  {
   "cell_type": "code",
   "execution_count": 2,
   "id": "d2ede38d",
   "metadata": {},
   "outputs": [
    {
     "name": "stdout",
     "output_type": "stream",
     "text": [
      "A\n"
     ]
    }
   ],
   "source": [
    "print(l[0])"
   ]
  },
  {
   "cell_type": "code",
   "execution_count": 3,
   "id": "826d4eb1",
   "metadata": {},
   "outputs": [
    {
     "name": "stdout",
     "output_type": "stream",
     "text": [
      "<class 'list'>\n"
     ]
    }
   ],
   "source": [
    " print(type(l))"
   ]
  },
  {
   "cell_type": "code",
   "execution_count": 6,
   "id": "e2d24ece",
   "metadata": {},
   "outputs": [
    {
     "name": "stdout",
     "output_type": "stream",
     "text": [
      "<class 'str'>\n"
     ]
    }
   ],
   "source": [
    " print(type(l[0]))"
   ]
  },
  {
   "cell_type": "code",
   "execution_count": 10,
   "id": "85c99a3b",
   "metadata": {},
   "outputs": [
    {
     "name": "stdout",
     "output_type": "stream",
     "text": [
      "[10, 2, 3, 14, 5]\n"
     ]
    }
   ],
   "source": [
    "l=[1,2,3,14,5]\n",
    "l[0]=10\n",
    "print(l)"
   ]
  },
  {
   "cell_type": "code",
   "execution_count": 8,
   "id": "e1df5b62",
   "metadata": {},
   "outputs": [
    {
     "name": "stdout",
     "output_type": "stream",
     "text": [
      "20\n"
     ]
    }
   ],
   "source": [
    "a=10\n",
    "a=20\n",
    "print(a)"
   ]
  },
  {
   "cell_type": "code",
   "execution_count": 9,
   "id": "a3a7ba95",
   "metadata": {},
   "outputs": [
    {
     "name": "stdout",
     "output_type": "stream",
     "text": [
      "[1, 2, 3, 55]\n"
     ]
    }
   ],
   "source": [
    "n=55\n",
    "l=[1,2,3,n]\n",
    "print(l)"
   ]
  },
  {
   "cell_type": "code",
   "execution_count": 11,
   "id": "1dc0d475",
   "metadata": {},
   "outputs": [
    {
     "name": "stdout",
     "output_type": "stream",
     "text": [
      "[]\n"
     ]
    }
   ],
   "source": [
    "l=[] #empty list\n",
    "print(l)"
   ]
  },
  {
   "cell_type": "code",
   "execution_count": 12,
   "id": "21ec20c5",
   "metadata": {},
   "outputs": [
    {
     "name": "stdout",
     "output_type": "stream",
     "text": [
      "7\n"
     ]
    }
   ],
   "source": [
    "        -4-3-2 -1\n",
    "l=[7,5,3,50,20,10] #negative indexs\n",
    "#  0 1 2 3 4 5\n",
    "print(l[-6])\n"
   ]
  },
  {
   "cell_type": "code",
   "execution_count": 13,
   "id": "a47c0ff2",
   "metadata": {
    "scrolled": true
   },
   "outputs": [
    {
     "name": "stdout",
     "output_type": "stream",
     "text": [
      "[11, 4, 8, 16]\n"
     ]
    }
   ],
   "source": [
    "#List slicing: \n",
    "n=[11,4,8,16,32,64,128,100,256]\n",
    "#   0 1 2 3  4  5   6   7   8\n",
    "print(n[0:4])"
   ]
  },
  {
   "cell_type": "code",
   "execution_count": 14,
   "id": "5ab0e4c6",
   "metadata": {},
   "outputs": [
    {
     "name": "stdout",
     "output_type": "stream",
     "text": [
      "[11, 4, 8, 16, 32, 64, 128, 100, 256]\n"
     ]
    }
   ],
   "source": [
    "print(n)"
   ]
  },
  {
   "cell_type": "code",
   "execution_count": 15,
   "id": "616b148a",
   "metadata": {},
   "outputs": [
    {
     "name": "stdout",
     "output_type": "stream",
     "text": [
      "[16, 32, 64, 128]\n"
     ]
    }
   ],
   "source": [
    "print(n[3:7])"
   ]
  },
  {
   "cell_type": "code",
   "execution_count": 16,
   "id": "148acb87",
   "metadata": {},
   "outputs": [
    {
     "name": "stdout",
     "output_type": "stream",
     "text": [
      "[64, 128, 100, 256]\n"
     ]
    }
   ],
   "source": [
    "print(n[5:])"
   ]
  },
  {
   "cell_type": "code",
   "execution_count": 17,
   "id": "17dcee71",
   "metadata": {},
   "outputs": [
    {
     "name": "stdout",
     "output_type": "stream",
     "text": [
      "[11, 4, 8]\n"
     ]
    }
   ],
   "source": [
    "print(n[ :3])"
   ]
  },
  {
   "cell_type": "code",
   "execution_count": 18,
   "id": "c7567fbe",
   "metadata": {},
   "outputs": [
    {
     "name": "stdout",
     "output_type": "stream",
     "text": [
      "[11, 4]\n"
     ]
    }
   ],
   "source": [
    "print(n[0:2])"
   ]
  },
  {
   "cell_type": "code",
   "execution_count": 19,
   "id": "feeb6a34",
   "metadata": {},
   "outputs": [
    {
     "name": "stdout",
     "output_type": "stream",
     "text": [
      "[11]\n"
     ]
    }
   ],
   "source": [
    "print(n[0:1])"
   ]
  },
  {
   "cell_type": "code",
   "execution_count": 20,
   "id": "4df3fb31",
   "metadata": {},
   "outputs": [
    {
     "name": "stdout",
     "output_type": "stream",
     "text": [
      "[11, 4, 8, 16]\n"
     ]
    }
   ],
   "source": [
    "print(n[0:4])"
   ]
  },
  {
   "cell_type": "code",
   "execution_count": 21,
   "id": "8532eebe",
   "metadata": {},
   "outputs": [
    {
     "name": "stdout",
     "output_type": "stream",
     "text": [
      "[]\n"
     ]
    }
   ],
   "source": [
    "print(n[4:0]) #by default it goes left to right"
   ]
  },
  {
   "cell_type": "code",
   "execution_count": 22,
   "id": "ca0e377d",
   "metadata": {},
   "outputs": [
    {
     "name": "stdout",
     "output_type": "stream",
     "text": [
      "[64, 128, 100]\n"
     ]
    }
   ],
   "source": [
    "print(n[-4:-1])"
   ]
  },
  {
   "cell_type": "code",
   "execution_count": 23,
   "id": "51ef977d",
   "metadata": {},
   "outputs": [
    {
     "name": "stdout",
     "output_type": "stream",
     "text": [
      "[8, 16, 32]\n"
     ]
    }
   ],
   "source": [
    " print(n[2:-4])"
   ]
  },
  {
   "cell_type": "code",
   "execution_count": 24,
   "id": "c37062a7",
   "metadata": {},
   "outputs": [
    {
     "name": "stdout",
     "output_type": "stream",
     "text": [
      "[11, 4, 8, 16, 32, 64, 128, 100, 256]\n"
     ]
    }
   ],
   "source": [
    "print(n[:])"
   ]
  },
  {
   "cell_type": "code",
   "execution_count": 25,
   "id": "4e5ecdcd",
   "metadata": {},
   "outputs": [
    {
     "name": "stdout",
     "output_type": "stream",
     "text": [
      "[11, 8, 32, 128, 256]\n"
     ]
    }
   ],
   "source": [
    "print(n[ ::2]) #steps "
   ]
  },
  {
   "cell_type": "code",
   "execution_count": 26,
   "id": "185f7a06",
   "metadata": {},
   "outputs": [
    {
     "name": "stdout",
     "output_type": "stream",
     "text": [
      "[11, 32, 256]\n"
     ]
    }
   ],
   "source": [
    "print(n[::4])"
   ]
  },
  {
   "cell_type": "code",
   "execution_count": 27,
   "id": "5eb9ca85",
   "metadata": {},
   "outputs": [
    {
     "name": "stdout",
     "output_type": "stream",
     "text": [
      "[256, 100, 128, 64, 32, 16, 8, 4, 11]\n"
     ]
    }
   ],
   "source": [
    "print(n[::-1]) #reverse of list"
   ]
  },
  {
   "cell_type": "code",
   "execution_count": 28,
   "id": "fd093d6c",
   "metadata": {},
   "outputs": [
    {
     "name": "stdout",
     "output_type": "stream",
     "text": [
      "[11, 4, 8, 16, 32, 64, 128, 100, 256]\n"
     ]
    }
   ],
   "source": [
    "print(n)"
   ]
  },
  {
   "cell_type": "code",
   "execution_count": 29,
   "id": "ab0378d8",
   "metadata": {},
   "outputs": [
    {
     "name": "stdout",
     "output_type": "stream",
     "text": [
      "[11, 8, 32]\n"
     ]
    }
   ],
   "source": [
    "print(n[0:5:2]) #3rd part is for direction or steps"
   ]
  },
  {
   "cell_type": "code",
   "execution_count": 30,
   "id": "302db992",
   "metadata": {},
   "outputs": [
    {
     "name": "stdout",
     "output_type": "stream",
     "text": [
      "[]\n"
     ]
    }
   ],
   "source": [
    "print(n[8:1:])"
   ]
  },
  {
   "cell_type": "code",
   "execution_count": 31,
   "id": "d13cde03",
   "metadata": {},
   "outputs": [
    {
     "name": "stdout",
     "output_type": "stream",
     "text": [
      "[256, 100, 128, 64, 32, 16, 8]\n"
     ]
    }
   ],
   "source": [
    "print(n[8:1:-1])"
   ]
  },
  {
   "cell_type": "code",
   "execution_count": 32,
   "id": "20dc9842",
   "metadata": {},
   "outputs": [
    {
     "name": "stdout",
     "output_type": "stream",
     "text": [
      "[]\n"
     ]
    }
   ],
   "source": [
    "print(n[1:4:-1])"
   ]
  },
  {
   "cell_type": "code",
   "execution_count": null,
   "id": "6563af55",
   "metadata": {},
   "outputs": [],
   "source": [
    "#there is no use of 0steps"
   ]
  }
 ],
 "metadata": {
  "kernelspec": {
   "display_name": "Python 3 (ipykernel)",
   "language": "python",
   "name": "python3"
  },
  "language_info": {
   "codemirror_mode": {
    "name": "ipython",
    "version": 3
   },
   "file_extension": ".py",
   "mimetype": "text/x-python",
   "name": "python",
   "nbconvert_exporter": "python",
   "pygments_lexer": "ipython3",
   "version": "3.9.7"
  }
 },
 "nbformat": 4,
 "nbformat_minor": 5
}
